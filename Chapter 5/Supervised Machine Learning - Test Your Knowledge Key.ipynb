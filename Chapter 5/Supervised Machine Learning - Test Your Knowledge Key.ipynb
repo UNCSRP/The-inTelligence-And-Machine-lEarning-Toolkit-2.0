{
 "cells": [
  {
   "cell_type": "markdown",
   "id": "a75b2745",
   "metadata": {},
   "source": [
    "# Supervised Machine Learning - Test Your Knowledge Key"
   ]
  },
  {
   "cell_type": "code",
   "execution_count": 1,
   "id": "f24fac46",
   "metadata": {},
   "outputs": [
    {
     "name": "stderr",
     "output_type": "stream",
     "text": [
      "\n",
      "Attaching package: ‘lubridate’\n",
      "\n",
      "\n",
      "The following objects are masked from ‘package:base’:\n",
      "\n",
      "    date, intersect, setdiff, union\n",
      "\n",
      "\n",
      "── \u001b[1mAttaching core tidyverse packages\u001b[22m ──────────────────────── tidyverse 2.0.0 ──\n",
      "\u001b[32m✔\u001b[39m \u001b[34mdplyr  \u001b[39m 1.1.3     \u001b[32m✔\u001b[39m \u001b[34mreadr  \u001b[39m 2.1.4\n",
      "\u001b[32m✔\u001b[39m \u001b[34mforcats\u001b[39m 1.0.0     \u001b[32m✔\u001b[39m \u001b[34mstringr\u001b[39m 1.5.0\n",
      "\u001b[32m✔\u001b[39m \u001b[34mggplot2\u001b[39m 3.4.3     \u001b[32m✔\u001b[39m \u001b[34mtibble \u001b[39m 3.2.1\n",
      "\u001b[32m✔\u001b[39m \u001b[34mpurrr  \u001b[39m 1.0.2     \u001b[32m✔\u001b[39m \u001b[34mtidyr  \u001b[39m 1.3.0\n",
      "── \u001b[1mConflicts\u001b[22m ────────────────────────────────────────── tidyverse_conflicts() ──\n",
      "\u001b[31m✖\u001b[39m \u001b[34mdplyr\u001b[39m::\u001b[32mfilter()\u001b[39m masks \u001b[34mstats\u001b[39m::filter()\n",
      "\u001b[31m✖\u001b[39m \u001b[34mdplyr\u001b[39m::\u001b[32mlag()\u001b[39m    masks \u001b[34mstats\u001b[39m::lag()\n",
      "\u001b[36mℹ\u001b[39m Use the conflicted package (\u001b[3m\u001b[34m<http://conflicted.r-lib.org/>\u001b[39m\u001b[23m) to force all conflicts to become errors\n",
      "\n",
      "Attaching package: ‘flextable’\n",
      "\n",
      "\n",
      "The following objects are masked from ‘package:gtsummary’:\n",
      "\n",
      "    as_flextable, continuous_summary\n",
      "\n",
      "\n",
      "The following object is masked from ‘package:purrr’:\n",
      "\n",
      "    compose\n",
      "\n",
      "\n",
      "Loading required package: lattice\n",
      "\n",
      "\n",
      "Attaching package: ‘caret’\n",
      "\n",
      "\n",
      "The following object is masked from ‘package:purrr’:\n",
      "\n",
      "    lift\n",
      "\n",
      "\n",
      "randomForest 4.7-1.1\n",
      "\n",
      "Type rfNews() to see new features/changes/bug fixes.\n",
      "\n",
      "\n",
      "Attaching package: ‘randomForest’\n",
      "\n",
      "\n",
      "The following object is masked from ‘package:dplyr’:\n",
      "\n",
      "    combine\n",
      "\n",
      "\n",
      "The following object is masked from ‘package:ggplot2’:\n",
      "\n",
      "    margin\n",
      "\n",
      "\n"
     ]
    }
   ],
   "source": [
    "library(readxl);\n",
    "library(lubridate);\n",
    "library(tidyverse);\n",
    "library(gtsummary);\n",
    "library(flextable);\n",
    "library(caret);\n",
    "library(randomForest);"
   ]
  },
  {
   "cell_type": "code",
   "execution_count": 2,
   "id": "f344ccbc",
   "metadata": {},
   "outputs": [
    {
     "data": {
      "text/html": [
       "<table class=\"dataframe\">\n",
       "<caption>A data.frame: 6 × 12</caption>\n",
       "<thead>\n",
       "\t<tr><th></th><th scope=col>Tax_ID</th><th scope=col>Water_Sample_Date</th><th scope=col>Casing_Depth</th><th scope=col>Well_Depth</th><th scope=col>Static_Water_Depth</th><th scope=col>Flow_Rate</th><th scope=col>pH</th><th scope=col>Longtitude</th><th scope=col>Latitude</th><th scope=col>Stream_Distance</th><th scope=col>Elevation</th><th scope=col>Detect_Concentration</th></tr>\n",
       "\t<tr><th></th><th scope=col>&lt;chr&gt;</th><th scope=col>&lt;chr&gt;</th><th scope=col>&lt;dbl&gt;</th><th scope=col>&lt;dbl&gt;</th><th scope=col>&lt;dbl&gt;</th><th scope=col>&lt;dbl&gt;</th><th scope=col>&lt;dbl&gt;</th><th scope=col>&lt;dbl&gt;</th><th scope=col>&lt;dbl&gt;</th><th scope=col>&lt;dbl&gt;</th><th scope=col>&lt;dbl&gt;</th><th scope=col>&lt;chr&gt;</th></tr>\n",
       "</thead>\n",
       "<tbody>\n",
       "\t<tr><th scope=row>1</th><td>1006004</td><td>9/24/12 </td><td>52</td><td>165</td><td>41</td><td>60.0</td><td>7.7</td><td>-80.29918</td><td>35.17970</td><td>811.9613</td><td>611.499</td><td>D </td></tr>\n",
       "\t<tr><th scope=row>2</th><td>1024009</td><td>12/17/15</td><td>40</td><td>445</td><td>42</td><td> 2.0</td><td>7.3</td><td>-80.31061</td><td>35.15487</td><td>341.7654</td><td>688.452</td><td>D </td></tr>\n",
       "\t<tr><th scope=row>3</th><td>1054019</td><td>2/2/15  </td><td>45</td><td>160</td><td>40</td><td>40.0</td><td>7.4</td><td>-80.33170</td><td>35.16158</td><td>634.2669</td><td>692.789</td><td>D </td></tr>\n",
       "\t<tr><th scope=row>4</th><td>1057017</td><td>10/22/12</td><td>42</td><td>440</td><td>57</td><td> 1.5</td><td>8.0</td><td>-80.32263</td><td>35.13962</td><td>855.4713</td><td>692.789</td><td>ND</td></tr>\n",
       "\t<tr><th scope=row>5</th><td>1060006</td><td>1/3/11  </td><td>48</td><td>120</td><td>42</td><td>25.0</td><td>7.1</td><td>-80.32911</td><td>35.13027</td><td>163.5688</td><td>683.387</td><td>D </td></tr>\n",
       "\t<tr><th scope=row>6</th><td>1066006</td><td>12/15/15</td><td>60</td><td>280</td><td>32</td><td>10.0</td><td>8.2</td><td>-80.32205</td><td>35.10479</td><td>725.7672</td><td>614.599</td><td>D </td></tr>\n",
       "</tbody>\n",
       "</table>\n"
      ],
      "text/latex": [
       "A data.frame: 6 × 12\n",
       "\\begin{tabular}{r|llllllllllll}\n",
       "  & Tax\\_ID & Water\\_Sample\\_Date & Casing\\_Depth & Well\\_Depth & Static\\_Water\\_Depth & Flow\\_Rate & pH & Longtitude & Latitude & Stream\\_Distance & Elevation & Detect\\_Concentration\\\\\n",
       "  & <chr> & <chr> & <dbl> & <dbl> & <dbl> & <dbl> & <dbl> & <dbl> & <dbl> & <dbl> & <dbl> & <chr>\\\\\n",
       "\\hline\n",
       "\t1 & 1006004 & 9/24/12  & 52 & 165 & 41 & 60.0 & 7.7 & -80.29918 & 35.17970 & 811.9613 & 611.499 & D \\\\\n",
       "\t2 & 1024009 & 12/17/15 & 40 & 445 & 42 &  2.0 & 7.3 & -80.31061 & 35.15487 & 341.7654 & 688.452 & D \\\\\n",
       "\t3 & 1054019 & 2/2/15   & 45 & 160 & 40 & 40.0 & 7.4 & -80.33170 & 35.16158 & 634.2669 & 692.789 & D \\\\\n",
       "\t4 & 1057017 & 10/22/12 & 42 & 440 & 57 &  1.5 & 8.0 & -80.32263 & 35.13962 & 855.4713 & 692.789 & ND\\\\\n",
       "\t5 & 1060006 & 1/3/11   & 48 & 120 & 42 & 25.0 & 7.1 & -80.32911 & 35.13027 & 163.5688 & 683.387 & D \\\\\n",
       "\t6 & 1066006 & 12/15/15 & 60 & 280 & 32 & 10.0 & 8.2 & -80.32205 & 35.10479 & 725.7672 & 614.599 & D \\\\\n",
       "\\end{tabular}\n"
      ],
      "text/markdown": [
       "\n",
       "A data.frame: 6 × 12\n",
       "\n",
       "| <!--/--> | Tax_ID &lt;chr&gt; | Water_Sample_Date &lt;chr&gt; | Casing_Depth &lt;dbl&gt; | Well_Depth &lt;dbl&gt; | Static_Water_Depth &lt;dbl&gt; | Flow_Rate &lt;dbl&gt; | pH &lt;dbl&gt; | Longtitude &lt;dbl&gt; | Latitude &lt;dbl&gt; | Stream_Distance &lt;dbl&gt; | Elevation &lt;dbl&gt; | Detect_Concentration &lt;chr&gt; |\n",
       "|---|---|---|---|---|---|---|---|---|---|---|---|---|\n",
       "| 1 | 1006004 | 9/24/12  | 52 | 165 | 41 | 60.0 | 7.7 | -80.29918 | 35.17970 | 811.9613 | 611.499 | D  |\n",
       "| 2 | 1024009 | 12/17/15 | 40 | 445 | 42 |  2.0 | 7.3 | -80.31061 | 35.15487 | 341.7654 | 688.452 | D  |\n",
       "| 3 | 1054019 | 2/2/15   | 45 | 160 | 40 | 40.0 | 7.4 | -80.33170 | 35.16158 | 634.2669 | 692.789 | D  |\n",
       "| 4 | 1057017 | 10/22/12 | 42 | 440 | 57 |  1.5 | 8.0 | -80.32263 | 35.13962 | 855.4713 | 692.789 | ND |\n",
       "| 5 | 1060006 | 1/3/11   | 48 | 120 | 42 | 25.0 | 7.1 | -80.32911 | 35.13027 | 163.5688 | 683.387 | D  |\n",
       "| 6 | 1066006 | 12/15/15 | 60 | 280 | 32 | 10.0 | 8.2 | -80.32205 | 35.10479 | 725.7672 | 614.599 | D  |\n",
       "\n"
      ],
      "text/plain": [
       "  Tax_ID  Water_Sample_Date Casing_Depth Well_Depth Static_Water_Depth\n",
       "1 1006004 9/24/12           52           165        41                \n",
       "2 1024009 12/17/15          40           445        42                \n",
       "3 1054019 2/2/15            45           160        40                \n",
       "4 1057017 10/22/12          42           440        57                \n",
       "5 1060006 1/3/11            48           120        42                \n",
       "6 1066006 12/15/15          60           280        32                \n",
       "  Flow_Rate pH  Longtitude Latitude Stream_Distance Elevation\n",
       "1 60.0      7.7 -80.29918  35.17970 811.9613        611.499  \n",
       "2  2.0      7.3 -80.31061  35.15487 341.7654        688.452  \n",
       "3 40.0      7.4 -80.33170  35.16158 634.2669        692.789  \n",
       "4  1.5      8.0 -80.32263  35.13962 855.4713        692.789  \n",
       "5 25.0      7.1 -80.32911  35.13027 163.5688        683.387  \n",
       "6 10.0      8.2 -80.32205  35.10479 725.7672        614.599  \n",
       "  Detect_Concentration\n",
       "1 D                   \n",
       "2 D                   \n",
       "3 D                   \n",
       "4 ND                  \n",
       "5 D                   \n",
       "6 D                   "
      ]
     },
     "metadata": {},
     "output_type": "display_data"
    }
   ],
   "source": [
    "# Load the data\n",
    "manganese_data <- data.frame(read_excel(\"Module5/Module5_Manganese_Data.xlsx\"))\n",
    "\n",
    "# View the top of the dataset\n",
    "head(manganese_data) "
   ]
  },
  {
   "cell_type": "markdown",
   "id": "1f9c80af",
   "metadata": {},
   "source": [
    "Like we did in the module, we'll start by changing some of the data types. "
   ]
  },
  {
   "cell_type": "code",
   "execution_count": 3,
   "id": "f27dcfc0",
   "metadata": {},
   "outputs": [
    {
     "ename": "ERROR",
     "evalue": "Error in parse(text = x, srcfile = src): <text>:9:1: unexpected symbol\n8: \n9: head\n   ^\n",
     "output_type": "error",
     "traceback": [
      "Error in parse(text = x, srcfile = src): <text>:9:1: unexpected symbol\n8: \n9: head\n   ^\nTraceback:\n"
     ]
    }
   ],
   "source": [
    "manganese_data = manganese_data %>%\n",
    "    # Converting `Detect_Concentration from a character to a factor\n",
    "    mutate(Detect_Concentration = relevel(factor(ifelse(Detect_Concentration == \"D\", 1, 0)), ref = \"0\"),\n",
    "        # converting water sample date from a character to a date type \n",
    "        Water_Sample_Date = mdy(Water_Sample_Date %>%\n",
    "    # Removing tax id and only keeping the predictor and outcome variables in the dataset\n",
    "    select(-Tax_ID)\n",
    "\n",
    "head(manganese_data)"
   ]
  },
  {
   "cell_type": "markdown",
   "id": "605bc019",
   "metadata": {},
   "source": [
    "Testing for differences in predictor variables acrosss the outcome classes."
   ]
  },
  {
   "cell_type": "code",
   "execution_count": null,
   "id": "c01bf6fb",
   "metadata": {},
   "outputs": [],
   "source": [
    "manganese_data %>%\n",
    "    tbl_summary(by = Detect_Concentration,\n",
    "    # Selecting columns to include\n",
    "    #include = colnames(manganese_data[c(2:11)]), \n",
    "    # Displaying the mean and standard deviation in parantheses for all continuous variables\n",
    "                statistic = list(all_continuous() ~ \"{mean} ({sd})\")) %>%\n",
    "    # Adding a column that displays the total number of samples for each variable\n",
    "    # This will be 713 for all variables since we have no missing data\n",
    "    add_n() %>% \n",
    "    # Adding a column that displays the p value from anova\n",
    "    add_p(test = list(all_continuous() ~ \"aov\")) %>% \n",
    "    #as_flex_table() %>%\n",
    "    #bold(bold = TRUE, part = \"header\")\n",
    "    as_tibble()"
   ]
  },
  {
   "cell_type": "markdown",
   "id": "95da63e0-3a7a-4f07-b240-4975115d631f",
   "metadata": {},
   "source": [
    "4 predictor variables (casing depth, pH, longtitude, and latitude) are significantly different, so the model should be able to predict moderately well. \n",
    "\n",
    "Next, setting up cross validation and parameters to be tuned."
   ]
  },
  {
   "cell_type": "code",
   "execution_count": null,
   "id": "e70b5804-9047-4843-a994-b0d500245da5",
   "metadata": {},
   "outputs": [],
   "source": [
    "set.seed(12)\n",
    "\n",
    "manganese_index = createFolds(manganese_data$Detect_Concentration, k = 5) \n",
    "\n",
    "ntree_values = c(50, 250, 500) # number of trees \n",
    "p = dim(manganese_data)[2] - 1 # number of predictor variables in the dataset\n",
    "mtry_values = c(sqrt(p), p/2, p) # number of predictors to be used in the model"
   ]
  },
  {
   "cell_type": "markdown",
   "id": "781f5d54-1470-445d-addb-96f84c1d5227",
   "metadata": {},
   "source": [
    "Predicting with RF"
   ]
  },
  {
   "cell_type": "code",
   "execution_count": null,
   "id": "30d666d5-00ef-4f87-8f7d-8b33fceed08a",
   "metadata": {},
   "outputs": [],
   "source": [
    "# Setting the seed again so the predictions are consistent\n",
    "set.seed(12)\n",
    "\n",
    "# Creating an empty dataframe to save the metrics\n",
    "metrics_df = data.frame()\n",
    "\n",
    "# Iterating through the cross validation folds\n",
    "for (i in 1:length(manganese_index)){\n",
    "    # Training data\n",
    "    data_train = manganese_data[-manganese_index[[i]],]\n",
    "    \n",
    "    # Test data\n",
    "    data_test = manganese_data[manganese_index[[i]],]\n",
    "    \n",
    "    # Creating empty lists and dataframes to store errors \n",
    "    reg_rf_pred_tune = list()\n",
    "    rf_OOB_errors = list()\n",
    "    rf_error_df = data.frame()\n",
    "    \n",
    "    # Tuning parameters: using ntree and mtry values to determine which combination yields the smallest OOB error \n",
    "    # from the validation datasets\n",
    "    for (j in 1:length(ntree_values)){\n",
    "        for (k in 1:length(mtry_values)){\n",
    "            \n",
    "            # Running RF to tune parameters\n",
    "            reg_rf_pred_tune[[k]] = randomForest(Detect_Concentration ~ ., data = data_train, \n",
    "                                                 ntree = ntree_values[j], mtry = mtry_values[k])\n",
    "            # Obtaining the OOB error\n",
    "            rf_OOB_errors[[k]] = data.frame(\"Tree Number\" = ntree_values[j], \"Variable Number\" = mtry_values[k], \n",
    "                                   \"OOB_errors\" = reg_rf_pred_tune[[k]]$err.rate[ntree_values[j],1])\n",
    "            \n",
    "            # Storing the values in a dataframe\n",
    "            rf_error_df = rbind(rf_error_df, rf_OOB_errors[[k]])\n",
    "        }\n",
    "    }\n",
    "    \n",
    "    # Finding the lowest OOB error using best number of predictors at split\n",
    "    best_oob_errors <- which(rf_error_df$OOB_errors == min(rf_error_df$OOB_errors))\n",
    "\n",
    "    # Now running RF on the entire training set with the tuned parameters\n",
    "    reg_rf <- randomForest(Detect_Concentration ~ ., data = data_train,\n",
    "                               ntree = rf_error_df$Tree.Number[min(best_oob_errors)],\n",
    "                               mtry = rf_error_df$Variable.Number[min(best_oob_errors)])\n",
    "\n",
    "    # Predicting on test set and adding the predicted values as an additional column to the test data\n",
    "    data_test$Pred_Detect_Concentration = predict(reg_rf, newdata = data_test, type = \"response\")\n",
    "\n",
    "    # Obtaining the confusion matrix\n",
    "    matrix = confusionMatrix(data = data_test$Pred_Detect_Concentration, \n",
    "                             reference = data_test$Detect_Concentration, positive = \"1\")\n",
    "    \n",
    "    # Extracting balanced accuracy, sensitivity, specificity, and PPV\n",
    "    matrix_values = data.frame(t(c(matrix$byClass[11])), t(c(matrix$byClass[1:3])))\n",
    "    \n",
    "    # Adding values to df to be averaged across the 5 splits from CV\n",
    "    metrics_df = rbind(metrics_df, matrix_values)\n",
    "}\n",
    "\n",
    "# Taking average\n",
    "metrics_df = metrics_df %>%\n",
    "    summarise(`Balanced Accuracy` = mean(Balanced.Accuracy), Sensitivity = mean(Sensitivity), \n",
    "          Specificity = mean(Specificity), PPV = mean(Pos.Pred.Value))\n",
    "\n",
    "# Viewing the model's performance metrics\n",
    "metrics_df"
   ]
  },
  {
   "cell_type": "markdown",
   "id": "cb40522a-c2b2-46a6-8390-b5f5ca4bbe2b",
   "metadata": {},
   "source": [
    "Takeaways from this confusion matrix:\n",
    "\n",
    "+ Overall, the model performed moderately well at predicting if iAs would be detected based on a balanced accuracy of ~0.7\n",
    "+ RF did an okay job of predicting detect data with a sensitivity of 0.6 and a PPV of ~0.7\n",
    "+ The model was better at predicting non-detect data based on a specificity of ~0.8 "
   ]
  },
  {
   "cell_type": "code",
   "execution_count": null,
   "id": "29116d39-f00b-40ce-b2a3-82f39ddd314d",
   "metadata": {},
   "outputs": [],
   "source": []
  }
 ],
 "metadata": {
  "kernelspec": {
   "display_name": "R",
   "language": "R",
   "name": "ir"
  },
  "language_info": {
   "codemirror_mode": "r",
   "file_extension": ".r",
   "mimetype": "text/x-r-source",
   "name": "R",
   "pygments_lexer": "r",
   "version": "4.3.1"
  }
 },
 "nbformat": 4,
 "nbformat_minor": 5
}
