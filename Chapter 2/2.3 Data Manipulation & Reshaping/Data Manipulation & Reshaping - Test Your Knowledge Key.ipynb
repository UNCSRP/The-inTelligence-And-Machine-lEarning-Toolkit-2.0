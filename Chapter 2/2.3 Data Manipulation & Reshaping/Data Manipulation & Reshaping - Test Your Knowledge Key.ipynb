{
 "cells": [
  {
   "cell_type": "code",
   "execution_count": 1,
   "id": "fed8cefb",
   "metadata": {},
   "outputs": [
    {
     "name": "stderr",
     "output_type": "stream",
     "text": [
      "── \u001b[1mAttaching packages\u001b[22m ─────────────────────────────────────── tidyverse 1.3.2 ──\n",
      "\u001b[32m✔\u001b[39m \u001b[34mggplot2\u001b[39m 3.4.0      \u001b[32m✔\u001b[39m \u001b[34mpurrr  \u001b[39m 0.3.4 \n",
      "\u001b[32m✔\u001b[39m \u001b[34mtibble \u001b[39m 3.1.8      \u001b[32m✔\u001b[39m \u001b[34mdplyr  \u001b[39m 1.0.10\n",
      "\u001b[32m✔\u001b[39m \u001b[34mtidyr  \u001b[39m 1.2.1      \u001b[32m✔\u001b[39m \u001b[34mstringr\u001b[39m 1.4.1 \n",
      "\u001b[32m✔\u001b[39m \u001b[34mreadr  \u001b[39m 2.1.2      \u001b[32m✔\u001b[39m \u001b[34mforcats\u001b[39m 0.5.2 \n",
      "── \u001b[1mConflicts\u001b[22m ────────────────────────────────────────── tidyverse_conflicts() ──\n",
      "\u001b[31m✖\u001b[39m \u001b[34mdplyr\u001b[39m::\u001b[32mfilter()\u001b[39m masks \u001b[34mstats\u001b[39m::filter()\n",
      "\u001b[31m✖\u001b[39m \u001b[34mdplyr\u001b[39m::\u001b[32mlag()\u001b[39m    masks \u001b[34mstats\u001b[39m::lag()\n"
     ]
    }
   ],
   "source": [
    "library(tidyverse)"
   ]
  },
  {
   "cell_type": "code",
   "execution_count": 2,
   "id": "1f4fecfe",
   "metadata": {},
   "outputs": [],
   "source": [
    "# Loading data\n",
    "demographic_data <- read.csv(\"Module2_3/Module2_3_DemographicData.csv\")\n",
    "chemical_data <- read.csv(\"Module2_3/Module2_3_ChemicalData.csv\")"
   ]
  },
  {
   "cell_type": "code",
   "execution_count": 3,
   "id": "f13ee79e",
   "metadata": {},
   "outputs": [
    {
     "data": {
      "text/html": [
       "<table class=\"dataframe\">\n",
       "<caption>A data.frame: 6 × 6</caption>\n",
       "<thead>\n",
       "\t<tr><th></th><th scope=col>ID</th><th scope=col>BMI</th><th scope=col>MAge</th><th scope=col>MEdu</th><th scope=col>BW</th><th scope=col>GA</th></tr>\n",
       "\t<tr><th></th><th scope=col>&lt;int&gt;</th><th scope=col>&lt;dbl&gt;</th><th scope=col>&lt;dbl&gt;</th><th scope=col>&lt;int&gt;</th><th scope=col>&lt;dbl&gt;</th><th scope=col>&lt;int&gt;</th></tr>\n",
       "</thead>\n",
       "<tbody>\n",
       "\t<tr><th scope=row>1</th><td>1</td><td>27.7</td><td>22.99928</td><td>3</td><td>3180.058</td><td>34</td></tr>\n",
       "\t<tr><th scope=row>2</th><td>2</td><td>26.8</td><td>30.05142</td><td>3</td><td>3210.823</td><td>43</td></tr>\n",
       "\t<tr><th scope=row>3</th><td>3</td><td>33.2</td><td>28.04660</td><td>3</td><td>3311.551</td><td>40</td></tr>\n",
       "\t<tr><th scope=row>4</th><td>4</td><td>30.1</td><td>34.81796</td><td>3</td><td>3266.844</td><td>32</td></tr>\n",
       "\t<tr><th scope=row>5</th><td>5</td><td>37.4</td><td>42.68440</td><td>3</td><td>3664.088</td><td>35</td></tr>\n",
       "\t<tr><th scope=row>6</th><td>6</td><td>33.3</td><td>24.94960</td><td>3</td><td>3328.988</td><td>40</td></tr>\n",
       "</tbody>\n",
       "</table>\n"
      ],
      "text/latex": [
       "A data.frame: 6 × 6\n",
       "\\begin{tabular}{r|llllll}\n",
       "  & ID & BMI & MAge & MEdu & BW & GA\\\\\n",
       "  & <int> & <dbl> & <dbl> & <int> & <dbl> & <int>\\\\\n",
       "\\hline\n",
       "\t1 & 1 & 27.7 & 22.99928 & 3 & 3180.058 & 34\\\\\n",
       "\t2 & 2 & 26.8 & 30.05142 & 3 & 3210.823 & 43\\\\\n",
       "\t3 & 3 & 33.2 & 28.04660 & 3 & 3311.551 & 40\\\\\n",
       "\t4 & 4 & 30.1 & 34.81796 & 3 & 3266.844 & 32\\\\\n",
       "\t5 & 5 & 37.4 & 42.68440 & 3 & 3664.088 & 35\\\\\n",
       "\t6 & 6 & 33.3 & 24.94960 & 3 & 3328.988 & 40\\\\\n",
       "\\end{tabular}\n"
      ],
      "text/markdown": [
       "\n",
       "A data.frame: 6 × 6\n",
       "\n",
       "| <!--/--> | ID &lt;int&gt; | BMI &lt;dbl&gt; | MAge &lt;dbl&gt; | MEdu &lt;int&gt; | BW &lt;dbl&gt; | GA &lt;int&gt; |\n",
       "|---|---|---|---|---|---|---|\n",
       "| 1 | 1 | 27.7 | 22.99928 | 3 | 3180.058 | 34 |\n",
       "| 2 | 2 | 26.8 | 30.05142 | 3 | 3210.823 | 43 |\n",
       "| 3 | 3 | 33.2 | 28.04660 | 3 | 3311.551 | 40 |\n",
       "| 4 | 4 | 30.1 | 34.81796 | 3 | 3266.844 | 32 |\n",
       "| 5 | 5 | 37.4 | 42.68440 | 3 | 3664.088 | 35 |\n",
       "| 6 | 6 | 33.3 | 24.94960 | 3 | 3328.988 | 40 |\n",
       "\n"
      ],
      "text/plain": [
       "  ID BMI  MAge     MEdu BW       GA\n",
       "1 1  27.7 22.99928 3    3180.058 34\n",
       "2 2  26.8 30.05142 3    3210.823 43\n",
       "3 3  33.2 28.04660 3    3311.551 40\n",
       "4 4  30.1 34.81796 3    3266.844 32\n",
       "5 5  37.4 42.68440 3    3664.088 35\n",
       "6 6  33.3 24.94960 3    3328.988 40"
      ]
     },
     "metadata": {},
     "output_type": "display_data"
    },
    {
     "data": {
      "text/html": [
       "<table class=\"dataframe\">\n",
       "<caption>A data.frame: 6 × 7</caption>\n",
       "<thead>\n",
       "\t<tr><th></th><th scope=col>ID</th><th scope=col>DWAs</th><th scope=col>DWCd</th><th scope=col>DWCr</th><th scope=col>UAs</th><th scope=col>UCd</th><th scope=col>UCr</th></tr>\n",
       "\t<tr><th></th><th scope=col>&lt;int&gt;</th><th scope=col>&lt;dbl&gt;</th><th scope=col>&lt;dbl&gt;</th><th scope=col>&lt;dbl&gt;</th><th scope=col>&lt;dbl&gt;</th><th scope=col>&lt;dbl&gt;</th><th scope=col>&lt;dbl&gt;</th></tr>\n",
       "</thead>\n",
       "<tbody>\n",
       "\t<tr><th scope=row>1</th><td>1</td><td>6.426464</td><td>1.292941</td><td>51.67987</td><td>10.192695</td><td>0.7537104</td><td>42.60187</td></tr>\n",
       "\t<tr><th scope=row>2</th><td>2</td><td>7.832384</td><td>1.798535</td><td>50.10409</td><td>11.815088</td><td>0.9789506</td><td>41.30757</td></tr>\n",
       "\t<tr><th scope=row>3</th><td>3</td><td>7.516569</td><td>1.288461</td><td>48.74001</td><td>10.079057</td><td>0.1903262</td><td>36.47716</td></tr>\n",
       "\t<tr><th scope=row>4</th><td>4</td><td>5.906656</td><td>2.075259</td><td>50.92745</td><td> 8.719123</td><td>0.9364825</td><td>42.47987</td></tr>\n",
       "\t<tr><th scope=row>5</th><td>5</td><td>7.181873</td><td>2.762643</td><td>55.16882</td><td> 9.436559</td><td>1.4977829</td><td>47.78528</td></tr>\n",
       "\t<tr><th scope=row>6</th><td>6</td><td>9.723429</td><td>3.054057</td><td>51.14812</td><td>11.589403</td><td>1.6645837</td><td>38.26386</td></tr>\n",
       "</tbody>\n",
       "</table>\n"
      ],
      "text/latex": [
       "A data.frame: 6 × 7\n",
       "\\begin{tabular}{r|lllllll}\n",
       "  & ID & DWAs & DWCd & DWCr & UAs & UCd & UCr\\\\\n",
       "  & <int> & <dbl> & <dbl> & <dbl> & <dbl> & <dbl> & <dbl>\\\\\n",
       "\\hline\n",
       "\t1 & 1 & 6.426464 & 1.292941 & 51.67987 & 10.192695 & 0.7537104 & 42.60187\\\\\n",
       "\t2 & 2 & 7.832384 & 1.798535 & 50.10409 & 11.815088 & 0.9789506 & 41.30757\\\\\n",
       "\t3 & 3 & 7.516569 & 1.288461 & 48.74001 & 10.079057 & 0.1903262 & 36.47716\\\\\n",
       "\t4 & 4 & 5.906656 & 2.075259 & 50.92745 &  8.719123 & 0.9364825 & 42.47987\\\\\n",
       "\t5 & 5 & 7.181873 & 2.762643 & 55.16882 &  9.436559 & 1.4977829 & 47.78528\\\\\n",
       "\t6 & 6 & 9.723429 & 3.054057 & 51.14812 & 11.589403 & 1.6645837 & 38.26386\\\\\n",
       "\\end{tabular}\n"
      ],
      "text/markdown": [
       "\n",
       "A data.frame: 6 × 7\n",
       "\n",
       "| <!--/--> | ID &lt;int&gt; | DWAs &lt;dbl&gt; | DWCd &lt;dbl&gt; | DWCr &lt;dbl&gt; | UAs &lt;dbl&gt; | UCd &lt;dbl&gt; | UCr &lt;dbl&gt; |\n",
       "|---|---|---|---|---|---|---|---|\n",
       "| 1 | 1 | 6.426464 | 1.292941 | 51.67987 | 10.192695 | 0.7537104 | 42.60187 |\n",
       "| 2 | 2 | 7.832384 | 1.798535 | 50.10409 | 11.815088 | 0.9789506 | 41.30757 |\n",
       "| 3 | 3 | 7.516569 | 1.288461 | 48.74001 | 10.079057 | 0.1903262 | 36.47716 |\n",
       "| 4 | 4 | 5.906656 | 2.075259 | 50.92745 |  8.719123 | 0.9364825 | 42.47987 |\n",
       "| 5 | 5 | 7.181873 | 2.762643 | 55.16882 |  9.436559 | 1.4977829 | 47.78528 |\n",
       "| 6 | 6 | 9.723429 | 3.054057 | 51.14812 | 11.589403 | 1.6645837 | 38.26386 |\n",
       "\n"
      ],
      "text/plain": [
       "  ID DWAs     DWCd     DWCr     UAs       UCd       UCr     \n",
       "1 1  6.426464 1.292941 51.67987 10.192695 0.7537104 42.60187\n",
       "2 2  7.832384 1.798535 50.10409 11.815088 0.9789506 41.30757\n",
       "3 3  7.516569 1.288461 48.74001 10.079057 0.1903262 36.47716\n",
       "4 4  5.906656 2.075259 50.92745  8.719123 0.9364825 42.47987\n",
       "5 5  7.181873 2.762643 55.16882  9.436559 1.4977829 47.78528\n",
       "6 6  9.723429 3.054057 51.14812 11.589403 1.6645837 38.26386"
      ]
     },
     "metadata": {},
     "output_type": "display_data"
    }
   ],
   "source": [
    "# Viewing data\n",
    "head(demographic_data)\n",
    "head(chemical_data)"
   ]
  },
  {
   "cell_type": "code",
   "execution_count": 8,
   "id": "b6e281c3",
   "metadata": {},
   "outputs": [
    {
     "name": "stderr",
     "output_type": "stream",
     "text": [
      "\u001b[1m\u001b[22mJoining, by = \"ID\"\n"
     ]
    },
    {
     "data": {
      "text/html": [
       "<table class=\"dataframe\">\n",
       "<caption>A data.frame: 6 × 4</caption>\n",
       "<thead>\n",
       "\t<tr><th></th><th scope=col>ID</th><th scope=col>GA</th><th scope=col>DWCd</th><th scope=col>UCd</th></tr>\n",
       "\t<tr><th></th><th scope=col>&lt;int&gt;</th><th scope=col>&lt;int&gt;</th><th scope=col>&lt;dbl&gt;</th><th scope=col>&lt;dbl&gt;</th></tr>\n",
       "</thead>\n",
       "<tbody>\n",
       "\t<tr><th scope=row>1</th><td>1</td><td>34</td><td>1.292941</td><td>0.7537104</td></tr>\n",
       "\t<tr><th scope=row>2</th><td>2</td><td>43</td><td>1.798535</td><td>0.9789506</td></tr>\n",
       "\t<tr><th scope=row>3</th><td>3</td><td>40</td><td>1.288461</td><td>0.1903262</td></tr>\n",
       "\t<tr><th scope=row>4</th><td>4</td><td>32</td><td>2.075259</td><td>0.9364825</td></tr>\n",
       "\t<tr><th scope=row>5</th><td>5</td><td>35</td><td>2.762643</td><td>1.4977829</td></tr>\n",
       "\t<tr><th scope=row>6</th><td>6</td><td>40</td><td>3.054057</td><td>1.6645837</td></tr>\n",
       "</tbody>\n",
       "</table>\n"
      ],
      "text/latex": [
       "A data.frame: 6 × 4\n",
       "\\begin{tabular}{r|llll}\n",
       "  & ID & GA & DWCd & UCd\\\\\n",
       "  & <int> & <int> & <dbl> & <dbl>\\\\\n",
       "\\hline\n",
       "\t1 & 1 & 34 & 1.292941 & 0.7537104\\\\\n",
       "\t2 & 2 & 43 & 1.798535 & 0.9789506\\\\\n",
       "\t3 & 3 & 40 & 1.288461 & 0.1903262\\\\\n",
       "\t4 & 4 & 32 & 2.075259 & 0.9364825\\\\\n",
       "\t5 & 5 & 35 & 2.762643 & 1.4977829\\\\\n",
       "\t6 & 6 & 40 & 3.054057 & 1.6645837\\\\\n",
       "\\end{tabular}\n"
      ],
      "text/markdown": [
       "\n",
       "A data.frame: 6 × 4\n",
       "\n",
       "| <!--/--> | ID &lt;int&gt; | GA &lt;int&gt; | DWCd &lt;dbl&gt; | UCd &lt;dbl&gt; |\n",
       "|---|---|---|---|---|\n",
       "| 1 | 1 | 34 | 1.292941 | 0.7537104 |\n",
       "| 2 | 2 | 43 | 1.798535 | 0.9789506 |\n",
       "| 3 | 3 | 40 | 1.288461 | 0.1903262 |\n",
       "| 4 | 4 | 32 | 2.075259 | 0.9364825 |\n",
       "| 5 | 5 | 35 | 2.762643 | 1.4977829 |\n",
       "| 6 | 6 | 40 | 3.054057 | 1.6645837 |\n",
       "\n"
      ],
      "text/plain": [
       "  ID GA DWCd     UCd      \n",
       "1 1  34 1.292941 0.7537104\n",
       "2 2  43 1.798535 0.9789506\n",
       "3 3  40 1.288461 0.1903262\n",
       "4 4  32 2.075259 0.9364825\n",
       "5 5  35 2.762643 1.4977829\n",
       "6 6  40 3.054057 1.6645837"
      ]
     },
     "metadata": {},
     "output_type": "display_data"
    }
   ],
   "source": [
    "# Merging to create one dataframe and also removing columns that aren't needed for this analysis\n",
    "chemical_demographic_df = inner_join(demographic_data[,c(1,6)], chemical_data[,c(1,3,6)])\n",
    "head(chemical_demographic_df)"
   ]
  },
  {
   "cell_type": "markdown",
   "id": "241a5e97",
   "metadata": {},
   "source": [
    "Now that we have one dataframe with both gestational age and cadmium data we can easily filter using the next few lines of code."
   ]
  },
  {
   "cell_type": "code",
   "execution_count": 10,
   "id": "f6894c5b",
   "metadata": {},
   "outputs": [
    {
     "data": {
      "text/html": [
       "<table class=\"dataframe\">\n",
       "<caption>A data.frame: 18 × 4</caption>\n",
       "<thead>\n",
       "\t<tr><th scope=col>ID</th><th scope=col>GA</th><th scope=col>DWCd</th><th scope=col>UCd</th></tr>\n",
       "\t<tr><th scope=col>&lt;int&gt;</th><th scope=col>&lt;int&gt;</th><th scope=col>&lt;dbl&gt;</th><th scope=col>&lt;dbl&gt;</th></tr>\n",
       "</thead>\n",
       "<tbody>\n",
       "\t<tr><td> 52</td><td>43</td><td>3.611284</td><td>1.998909</td></tr>\n",
       "\t<tr><td>194</td><td>39</td><td>3.142990</td><td>2.108238</td></tr>\n",
       "\t<tr><td>  6</td><td>40</td><td>3.054057</td><td>1.664584</td></tr>\n",
       "\t<tr><td>147</td><td>39</td><td>3.004019</td><td>2.169481</td></tr>\n",
       "\t<tr><td> 58</td><td>42</td><td>2.885187</td><td>1.928381</td></tr>\n",
       "\t<tr><td> 70</td><td>37</td><td>2.841899</td><td>1.768664</td></tr>\n",
       "\t<tr><td> 22</td><td>43</td><td>2.808845</td><td>1.989105</td></tr>\n",
       "\t<tr><td> 91</td><td>39</td><td>2.752333</td><td>2.405193</td></tr>\n",
       "\t<tr><td>156</td><td>41</td><td>2.738537</td><td>2.020627</td></tr>\n",
       "\t<tr><td>  9</td><td>39</td><td>2.727755</td><td>1.658576</td></tr>\n",
       "\t<tr><td>190</td><td>42</td><td>2.583445</td><td>1.693536</td></tr>\n",
       "\t<tr><td>122</td><td>39</td><td>2.505783</td><td>1.613179</td></tr>\n",
       "\t<tr><td>121</td><td>37</td><td>2.486849</td><td>1.910452</td></tr>\n",
       "\t<tr><td>174</td><td>43</td><td>2.387165</td><td>1.864387</td></tr>\n",
       "\t<tr><td> 54</td><td>43</td><td>2.379478</td><td>1.646654</td></tr>\n",
       "\t<tr><td> 67</td><td>41</td><td>2.351401</td><td>1.853122</td></tr>\n",
       "\t<tr><td> 94</td><td>42</td><td>2.188118</td><td>1.717359</td></tr>\n",
       "\t<tr><td>198</td><td>38</td><td>2.023157</td><td>1.695486</td></tr>\n",
       "</tbody>\n",
       "</table>\n"
      ],
      "text/latex": [
       "A data.frame: 18 × 4\n",
       "\\begin{tabular}{llll}\n",
       " ID & GA & DWCd & UCd\\\\\n",
       " <int> & <int> & <dbl> & <dbl>\\\\\n",
       "\\hline\n",
       "\t  52 & 43 & 3.611284 & 1.998909\\\\\n",
       "\t 194 & 39 & 3.142990 & 2.108238\\\\\n",
       "\t   6 & 40 & 3.054057 & 1.664584\\\\\n",
       "\t 147 & 39 & 3.004019 & 2.169481\\\\\n",
       "\t  58 & 42 & 2.885187 & 1.928381\\\\\n",
       "\t  70 & 37 & 2.841899 & 1.768664\\\\\n",
       "\t  22 & 43 & 2.808845 & 1.989105\\\\\n",
       "\t  91 & 39 & 2.752333 & 2.405193\\\\\n",
       "\t 156 & 41 & 2.738537 & 2.020627\\\\\n",
       "\t   9 & 39 & 2.727755 & 1.658576\\\\\n",
       "\t 190 & 42 & 2.583445 & 1.693536\\\\\n",
       "\t 122 & 39 & 2.505783 & 1.613179\\\\\n",
       "\t 121 & 37 & 2.486849 & 1.910452\\\\\n",
       "\t 174 & 43 & 2.387165 & 1.864387\\\\\n",
       "\t  54 & 43 & 2.379478 & 1.646654\\\\\n",
       "\t  67 & 41 & 2.351401 & 1.853122\\\\\n",
       "\t  94 & 42 & 2.188118 & 1.717359\\\\\n",
       "\t 198 & 38 & 2.023157 & 1.695486\\\\\n",
       "\\end{tabular}\n"
      ],
      "text/markdown": [
       "\n",
       "A data.frame: 18 × 4\n",
       "\n",
       "| ID &lt;int&gt; | GA &lt;int&gt; | DWCd &lt;dbl&gt; | UCd &lt;dbl&gt; |\n",
       "|---|---|---|---|\n",
       "|  52 | 43 | 3.611284 | 1.998909 |\n",
       "| 194 | 39 | 3.142990 | 2.108238 |\n",
       "|   6 | 40 | 3.054057 | 1.664584 |\n",
       "| 147 | 39 | 3.004019 | 2.169481 |\n",
       "|  58 | 42 | 2.885187 | 1.928381 |\n",
       "|  70 | 37 | 2.841899 | 1.768664 |\n",
       "|  22 | 43 | 2.808845 | 1.989105 |\n",
       "|  91 | 39 | 2.752333 | 2.405193 |\n",
       "| 156 | 41 | 2.738537 | 2.020627 |\n",
       "|   9 | 39 | 2.727755 | 1.658576 |\n",
       "| 190 | 42 | 2.583445 | 1.693536 |\n",
       "| 122 | 39 | 2.505783 | 1.613179 |\n",
       "| 121 | 37 | 2.486849 | 1.910452 |\n",
       "| 174 | 43 | 2.387165 | 1.864387 |\n",
       "|  54 | 43 | 2.379478 | 1.646654 |\n",
       "|  67 | 41 | 2.351401 | 1.853122 |\n",
       "|  94 | 42 | 2.188118 | 1.717359 |\n",
       "| 198 | 38 | 2.023157 | 1.695486 |\n",
       "\n"
      ],
      "text/plain": [
       "   ID  GA DWCd     UCd     \n",
       "1   52 43 3.611284 1.998909\n",
       "2  194 39 3.142990 2.108238\n",
       "3    6 40 3.054057 1.664584\n",
       "4  147 39 3.004019 2.169481\n",
       "5   58 42 2.885187 1.928381\n",
       "6   70 37 2.841899 1.768664\n",
       "7   22 43 2.808845 1.989105\n",
       "8   91 39 2.752333 2.405193\n",
       "9  156 41 2.738537 2.020627\n",
       "10   9 39 2.727755 1.658576\n",
       "11 190 42 2.583445 1.693536\n",
       "12 122 39 2.505783 1.613179\n",
       "13 121 37 2.486849 1.910452\n",
       "14 174 43 2.387165 1.864387\n",
       "15  54 43 2.379478 1.646654\n",
       "16  67 41 2.351401 1.853122\n",
       "17  94 42 2.188118 1.717359\n",
       "18 198 38 2.023157 1.695486"
      ]
     },
     "metadata": {},
     "output_type": "display_data"
    }
   ],
   "source": [
    "chemical_demographic_df %>%\n",
    "    # Filtering for mothers that gave birth to babies that were at least 35 weeks old\n",
    "    # Filtering for mothers with at least 1.5 micrograms/L urinary cadmium levels\n",
    "    filter(GA > 35 & UCd > 1.5) %>%\n",
    "    # Arranging the dataframe from highest to lowest cadmium levels\n",
    "    arrange(-DWCd)"
   ]
  },
  {
   "cell_type": "code",
   "execution_count": null,
   "id": "57482022",
   "metadata": {},
   "outputs": [],
   "source": []
  }
 ],
 "metadata": {
  "kernelspec": {
   "display_name": "R",
   "language": "R",
   "name": "ir"
  },
  "language_info": {
   "codemirror_mode": "r",
   "file_extension": ".r",
   "mimetype": "text/x-r-source",
   "name": "R",
   "pygments_lexer": "r",
   "version": "4.1.3"
  }
 },
 "nbformat": 4,
 "nbformat_minor": 5
}
